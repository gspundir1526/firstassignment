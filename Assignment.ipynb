{
 "cells": [
  {
   "cell_type": "code",
   "execution_count": 33,
   "id": "664d694d-7c66-4c41-adae-5ac08572e4de",
   "metadata": {},
   "outputs": [],
   "source": [
    "#Q1. Create one variable containing following type of data:\""
   ]
  },
  {
   "cell_type": "code",
   "execution_count": 2,
   "id": "83adc858-a979-4fb8-aadf-28b54cf20cdd",
   "metadata": {},
   "outputs": [],
   "source": [
    "l=[\"pwskills\",[1,1.25,\"gauv\",2+2j,True],1.25,(1,1.25,\"gauv\",True)]"
   ]
  },
  {
   "cell_type": "code",
   "execution_count": 32,
   "id": "97ba8313-7629-4bc8-be22-3c99626099f2",
   "metadata": {},
   "outputs": [],
   "source": [
    "# Q2. Given are some following variables containing data:\""
   ]
  },
  {
   "cell_type": "code",
   "execution_count": 10,
   "id": "a0b99be1-3aae-4c31-adc7-802aaffa15c1",
   "metadata": {},
   "outputs": [],
   "source": [
    "var4 = 1."
   ]
  },
  {
   "cell_type": "code",
   "execution_count": 12,
   "id": "3ff052ea-862d-4917-9a86-724dd210cd3c",
   "metadata": {},
   "outputs": [
    {
     "data": {
      "text/plain": [
       "float"
      ]
     },
     "execution_count": 12,
     "metadata": {},
     "output_type": "execute_result"
    }
   ],
   "source": [
    "type(var4)"
   ]
  },
  {
   "cell_type": "code",
   "execution_count": 31,
   "id": "4b54a6e4-29af-48a3-b1a8-99b8ed0e1f97",
   "metadata": {},
   "outputs": [],
   "source": [
    "#Q3. Explain the use of the following operators using an example:\""
   ]
  },
  {
   "cell_type": "code",
   "execution_count": 14,
   "id": "9f7f8bec-ca25-43db-b1e1-73783d2881b0",
   "metadata": {},
   "outputs": [
    {
     "data": {
      "text/plain": [
       "1.25"
      ]
     },
     "execution_count": 14,
     "metadata": {},
     "output_type": "execute_result"
    }
   ],
   "source": [
    "5/4 #Division"
   ]
  },
  {
   "cell_type": "code",
   "execution_count": 15,
   "id": "ab312563-de5d-4f98-8992-d21bd5ffc602",
   "metadata": {},
   "outputs": [
    {
     "data": {
      "text/plain": [
       "1"
      ]
     },
     "execution_count": 15,
     "metadata": {},
     "output_type": "execute_result"
    }
   ],
   "source": [
    "5%4 #Modulus"
   ]
  },
  {
   "cell_type": "code",
   "execution_count": 16,
   "id": "a925bda3-892d-4b7e-88ff-6761986ebdff",
   "metadata": {},
   "outputs": [
    {
     "data": {
      "text/plain": [
       "1"
      ]
     },
     "execution_count": 16,
     "metadata": {},
     "output_type": "execute_result"
    }
   ],
   "source": [
    "5//4 #Floor division"
   ]
  },
  {
   "cell_type": "code",
   "execution_count": 18,
   "id": "bf63a1ce-987b-463f-a04d-27ac09632647",
   "metadata": {},
   "outputs": [
    {
     "data": {
      "text/plain": [
       "625"
      ]
     },
     "execution_count": 18,
     "metadata": {},
     "output_type": "execute_result"
    }
   ],
   "source": [
    "5**4 #Exponentiation"
   ]
  },
  {
   "cell_type": "code",
   "execution_count": 30,
   "id": "3b089c4e-5783-41a6-8335-df645ff4fab9",
   "metadata": {},
   "outputs": [],
   "source": [
    "#Q4. Create a list of length 10 of your choice containing multiple types of data. Using for loop print the element and its data type.\""
   ]
  },
  {
   "cell_type": "code",
   "execution_count": 25,
   "id": "6f5ab300-03a8-436a-a36c-d1ce6f521b6a",
   "metadata": {},
   "outputs": [],
   "source": [
    "l1=[1,2,True,\"gaurav\",1.25,2+5j,[1,2,3],5,8,9]"
   ]
  },
  {
   "cell_type": "code",
   "execution_count": 26,
   "id": "155ac1a5-fa89-441d-bfdb-064e31c81b7d",
   "metadata": {},
   "outputs": [
    {
     "data": {
      "text/plain": [
       "10"
      ]
     },
     "execution_count": 26,
     "metadata": {},
     "output_type": "execute_result"
    }
   ],
   "source": [
    "len(l1)"
   ]
  },
  {
   "cell_type": "code",
   "execution_count": 29,
   "id": "314c62a9-bf12-41b8-859b-fbc659317bd3",
   "metadata": {},
   "outputs": [
    {
     "name": "stdout",
     "output_type": "stream",
     "text": [
      "1 <class 'int'>\n",
      "2 <class 'int'>\n",
      "True <class 'bool'>\n",
      "gaurav <class 'str'>\n",
      "1.25 <class 'float'>\n",
      "(2+5j) <class 'complex'>\n",
      "[1, 2, 3] <class 'list'>\n",
      "5 <class 'int'>\n",
      "8 <class 'int'>\n",
      "9 <class 'int'>\n"
     ]
    }
   ],
   "source": [
    "for i in l1:\n",
    "    print (i, type(i))"
   ]
  },
  {
   "cell_type": "code",
   "execution_count": 8,
   "id": "c1a1e755-4628-4af1-affb-94fef150ff68",
   "metadata": {},
   "outputs": [],
   "source": [
    "#Q5. Using a while loop, verify if the number A is purely divisible by number B and if so then how many times it can be divisible."
   ]
  },
  {
   "cell_type": "code",
   "execution_count": 12,
   "id": "f30ac5e1-8fdb-45fd-8283-a4759f0205cf",
   "metadata": {},
   "outputs": [],
   "source": [
    "#Q6. Create a list containing 25 int type data. Using for loop and if-else condition print if the element is divisible by 3 or not."
   ]
  },
  {
   "cell_type": "code",
   "execution_count": 20,
   "id": "b517060b-bf58-467e-a963-181d0c75daf8",
   "metadata": {},
   "outputs": [
    {
     "name": "stdout",
     "output_type": "stream",
     "text": [
      "the element is not divisible by 3 1\n",
      "the element is not divisible by 3 2\n",
      "the element is divisible by 3 3\n",
      "the element is not divisible by 3 4\n",
      "the element is not divisible by 3 5\n",
      "the element is divisible by 3 6\n",
      "the element is not divisible by 3 7\n",
      "the element is not divisible by 3 8\n",
      "the element is divisible by 3 9\n",
      "the element is not divisible by 3 10\n",
      "the element is not divisible by 3 11\n",
      "the element is divisible by 3 12\n",
      "the element is not divisible by 3 13\n",
      "the element is not divisible by 3 14\n",
      "the element is divisible by 3 15\n",
      "the element is not divisible by 3 16\n",
      "the element is not divisible by 3 17\n",
      "the element is divisible by 3 18\n",
      "the element is not divisible by 3 19\n",
      "the element is not divisible by 3 20\n",
      "the element is divisible by 3 21\n",
      "the element is not divisible by 3 22\n",
      "the element is not divisible by 3 23\n",
      "the element is divisible by 3 24\n",
      "the element is not divisible by 3 25\n"
     ]
    }
   ],
   "source": [
    "l=[1,2,3,4,5,6,7,8,9,10,11,12,13,14,15,16,17,18,19,20,21,22,23,24,25]\n",
    "for list in l:\n",
    "    if list%3==0:\n",
    "        print(\"the element is divisible by 3\",list)\n",
    "    else:\n",
    "        print(\"the element is not divisible by 3\",list\n",
    "            )"
   ]
  },
  {
   "cell_type": "code",
   "execution_count": 1,
   "id": "9da22328-fa90-4ce1-a55d-fbdb46b0303d",
   "metadata": {},
   "outputs": [],
   "source": [
    "#Q7. What do you understand about mutable and immutable data types? Give examples for both showing this property."
   ]
  },
  {
   "cell_type": "code",
   "execution_count": 4,
   "id": "86ea2ab0-22cf-44be-b2b0-55cd1bfda697",
   "metadata": {},
   "outputs": [],
   "source": [
    "# Mutable -A mutable object can be changed after it is created\n",
    "# Examples : List, Set, Dictionary\n",
    "# Immutable - An immutable object cannot be changed after it is created\n",
    "# Examoles: tuples, int, float, bool\"\"\""
   ]
  },
  {
   "cell_type": "code",
   "execution_count": 5,
   "id": "e739a4c7-6463-4c16-af71-a037b5b71d4f",
   "metadata": {},
   "outputs": [],
   "source": [
    "List=[1,\"pwskills\",[1,2,3]]"
   ]
  },
  {
   "cell_type": "code",
   "execution_count": 6,
   "id": "00ffd99d-8c42-4c94-b238-aaa0a6496d0d",
   "metadata": {},
   "outputs": [],
   "source": [
    "List[1]=\"Gaurav\""
   ]
  },
  {
   "cell_type": "code",
   "execution_count": 7,
   "id": "db5aba30-98c9-4d5b-a666-34b611ccc4f9",
   "metadata": {},
   "outputs": [
    {
     "data": {
      "text/plain": [
       "[1, 'Gaurav', [1, 2, 3]]"
      ]
     },
     "execution_count": 7,
     "metadata": {},
     "output_type": "execute_result"
    }
   ],
   "source": [
    "List"
   ]
  },
  {
   "cell_type": "code",
   "execution_count": null,
   "id": "03d466ad-e2ca-4f00-b0be-b414b0f74ff2",
   "metadata": {},
   "outputs": [],
   "source": []
  }
 ],
 "metadata": {
  "kernelspec": {
   "display_name": "Python 3 (ipykernel)",
   "language": "python",
   "name": "python3"
  },
  "language_info": {
   "codemirror_mode": {
    "name": "ipython",
    "version": 3
   },
   "file_extension": ".py",
   "mimetype": "text/x-python",
   "name": "python",
   "nbconvert_exporter": "python",
   "pygments_lexer": "ipython3",
   "version": "3.10.8"
  }
 },
 "nbformat": 4,
 "nbformat_minor": 5
}
